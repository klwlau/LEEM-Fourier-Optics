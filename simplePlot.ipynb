{
 "cells": [
  {
   "cell_type": "code",
   "execution_count": 1,
   "metadata": {},
   "outputs": [],
   "source": [
    "import numpy as np\n",
    "from utilityFunc import *"
   ]
  },
  {
   "cell_type": "code",
   "execution_count": null,
   "metadata": {},
   "outputs": [
    {
     "name": "stdout",
     "output_type": "stream",
     "text": [
      "Main Started, Loading Libraries\n",
      "Loading Constants.py\n",
      "making transmittion CrossCoefficientMatrix\n",
      "Total Process:  443\n",
      "Number of Thread: 16\n",
      "Number of Chunk: 14\n",
      "Start multiprocessing\n",
      "-ID:31--Elapsed Time: 0.85 / 12.19 min -Time Left: 11.34  min -OuterLoop Time: 1.6 s--7.00%--HKT:11:13:37\n",
      "-ID:63--Elapsed Time: 1.72 / 12.11 min -Time Left: 10.39  min -OuterLoop Time: 1.6 s--14.22%--HKT:11:14:30\n",
      "-ID:95--Elapsed Time: 2.60 / 12.14 min -Time Left: 9.54  min -OuterLoop Time: 1.6 s--21.44%--HKT:11:15:23\n",
      "-ID:127--Elapsed Time: 3.49 / 12.18 min -Time Left: 8.69  min -OuterLoop Time: 1.6 s--28.67%--HKT:11:16:16\n"
     ]
    }
   ],
   "source": [
    "import wraper"
   ]
  },
  {
   "cell_type": "code",
   "execution_count": null,
   "metadata": {},
   "outputs": [],
   "source": [
    "objectPhase = np.load(\"objectPhaseShift.npy\")\n",
    "result = np.load(\"result.npy\")\n"
   ]
  },
  {
   "cell_type": "code",
   "execution_count": null,
   "metadata": {},
   "outputs": [],
   "source": [
    "plotArray(objectPhase)\n",
    "plotArray(result)"
   ]
  },
  {
   "cell_type": "code",
   "execution_count": null,
   "metadata": {},
   "outputs": [],
   "source": []
  }
 ],
 "metadata": {
  "kernelspec": {
   "display_name": "Python [default]",
   "language": "python",
   "name": "python3"
  },
  "language_info": {
   "codemirror_mode": {
    "name": "ipython",
    "version": 3
   },
   "file_extension": ".py",
   "mimetype": "text/x-python",
   "name": "python",
   "nbconvert_exporter": "python",
   "pygments_lexer": "ipython3",
   "version": "3.5.5"
  }
 },
 "nbformat": 4,
 "nbformat_minor": 2
}
